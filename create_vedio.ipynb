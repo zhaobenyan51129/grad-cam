{
 "cells": [
  {
   "cell_type": "code",
   "execution_count": 1,
   "metadata": {},
   "outputs": [
    {
     "name": "stdout",
     "output_type": "stream",
     "text": [
      "['layer0.png', 'layer1.png', 'layer2.png', 'layer3.png', 'layer4.png', 'layer5.png', 'layer6.png', 'layer7.png', 'layer8.png', 'layer9.png', 'layer10.png', 'layer11.png', 'layer12.png']\n"
     ]
    },
    {
     "name": "stderr",
     "output_type": "stream",
     "text": [
      "[mpeg4 @ 0x5636e6e560c0] dimensions too large for MPEG-4\n",
      "[ERROR:0@38.059] global /opt/conda/conda-bld/opencv-suite_1664548337286/work/modules/videoio/src/cap_ffmpeg_impl.hpp (2985) open Could not open codec mpeg4, error: Unspecified error (-22)\n",
      "[ERROR:0@38.059] global /opt/conda/conda-bld/opencv-suite_1664548337286/work/modules/videoio/src/cap_ffmpeg_impl.hpp (3002) open VIDEOIO/FFMPEG: Failed to initialize VideoWriter\n",
      "\n",
      "(python:1810097): GStreamer-CRITICAL **: 15:16:23.390: gst_element_make_from_uri: assertion 'gst_uri_is_valid (uri)' failed\n",
      "[ WARN:0@38.060] global /opt/conda/conda-bld/opencv-suite_1664548337286/work/modules/videoio/src/cap_gstreamer.cpp (1813) close_ OpenCV | GStreamer warning: No source in GStreamer pipeline. Ignore\n",
      "[ERROR:0@38.060] global /opt/conda/conda-bld/opencv-suite_1664548337286/work/modules/videoio/src/cap.cpp (595) open VIDEOIO(GSTREAMER): raised OpenCV exception:\n",
      "\n",
      "OpenCV(4.6.0) /opt/conda/conda-bld/opencv-suite_1664548337286/work/modules/videoio/src/cap_gstreamer.cpp:147: error: (-215:Assertion failed) ptr in function 'get'\n",
      "\n",
      "\n",
      "[ERROR:0@38.064] global /opt/conda/conda-bld/opencv-suite_1664548337286/work/modules/videoio/src/cap.cpp (595) open VIDEOIO(CV_IMAGES): raised OpenCV exception:\n",
      "\n",
      "OpenCV(4.6.0) /opt/conda/conda-bld/opencv-suite_1664548337286/work/modules/videoio/src/cap_images.cpp:253: error: (-5:Bad argument) CAP_IMAGES: can't find starting number (in the name of file): /home/zhaobenyan/data/grad_cam/merged_noised/noised.avi in function 'icvExtractPattern'\n",
      "\n",
      "\n"
     ]
    }
   ],
   "source": [
    "import cv2\n",
    "import os\n",
    "\n",
    "def images_to_video(path):\n",
    "    img_array = []\n",
    "    \n",
    "    imgList = os.listdir(path)\n",
    "    imgList.sort(key=lambda x: int(x.replace(\"layer\",\"\").split('.')[0])) \n",
    "    #imgList.sort(key=lambda x: float(x.split('.')[0]))  \n",
    "    print(imgList)\n",
    "    for count in range(0, len(imgList)): \n",
    "        filename = os.path.join(imgList[count])\n",
    "        img = cv2.imread(path + filename)\n",
    "        if img is None:\n",
    "            print(filename + \" is error!\")\n",
    "            continue\n",
    "        img_array.append(img)\n",
    "\n",
    "    height, width, layers = img.shape\n",
    "    size = (width, height)\n",
    "    fps = 5  # 设置每帧图像切换的速度\n",
    "    out = cv2.VideoWriter('/home/zhaobenyan/data/grad_cam/merged_noised/noised.avi', cv2.VideoWriter_fourcc(*'DIVX'), fps, size)\n",
    " \n",
    "    for i in range(len(img_array)):\n",
    "        out.write(img_array[i])\n",
    "    out.release()\n",
    " \n",
    "def main():\n",
    "    path = \"/home/zhaobenyan/data/grad_cam/merged_noised/\"  # 改成你自己图片文件夹的路径\n",
    "    images_to_video(path)\n",
    " \n",
    "if __name__ == \"__main__\":\n",
    "    main()"
   ]
  }
 ],
 "metadata": {
  "kernelspec": {
   "display_name": "Python 3.10.4 ('neuro': conda)",
   "language": "python",
   "name": "python3"
  },
  "language_info": {
   "codemirror_mode": {
    "name": "ipython",
    "version": 3
   },
   "file_extension": ".py",
   "mimetype": "text/x-python",
   "name": "python",
   "nbconvert_exporter": "python",
   "pygments_lexer": "ipython3",
   "version": "3.10.4"
  },
  "orig_nbformat": 4,
  "vscode": {
   "interpreter": {
    "hash": "8b9c5593a17fba624379e9190bd6a6e8859574f8bd8d9fe0bedd91538d1381a6"
   }
  }
 },
 "nbformat": 4,
 "nbformat_minor": 2
}
